{
  "nbformat": 4,
  "nbformat_minor": 0,
  "metadata": {
    "colab": {
      "provenance": []
    },
    "kernelspec": {
      "name": "python3",
      "display_name": "Python 3"
    },
    "language_info": {
      "name": "python"
    }
  },
  "cells": [
    {
      "cell_type": "markdown",
      "source": [
        "Monoalphabetic cipher(Stream cipher)"
      ],
      "metadata": {
        "id": "3bOLpSzDyWBe"
      }
    },
    {
      "cell_type": "code",
      "source": [
        "\n",
        "import random\n",
        "import string\n",
        "def generate_key(length):\n",
        "\n",
        "    letters=list(string.ascii_lowercase)\n",
        "    random.shuffle(letters)\n",
        "    key=''.join(letters[:length])\n",
        "\n",
        "    return key\n",
        "\n",
        "def mono_encrypt(message):\n",
        "    encrypt=''\n",
        "    key=generate_key(26)\n",
        "    alphabet=''.join(string.ascii_lowercase)\n",
        "    dict={}\n",
        "    for i in range(26):\n",
        "        dict[alphabet[i]]=key[i]\n",
        "\n",
        "    for ch in message.lower():\n",
        "        encrypt+=dict[ch]\n",
        "\n",
        "\n",
        "\n",
        "    print(encrypt)\n",
        "\n",
        "mono_encrypt(\"Hello\")"
      ],
      "metadata": {
        "colab": {
          "base_uri": "https://localhost:8080/"
        },
        "id": "o_wReZZ6yU17",
        "outputId": "bcb0a6ce-4ab9-4545-c8cd-efcb39d0e379"
      },
      "execution_count": 6,
      "outputs": [
        {
          "output_type": "stream",
          "name": "stdout",
          "text": [
            "nijje\n"
          ]
        }
      ]
    }
  ]
}